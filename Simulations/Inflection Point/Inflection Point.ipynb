{
 "cells": [
  {
   "cell_type": "code",
   "execution_count": 35,
   "id": "9f4d2945",
   "metadata": {},
   "outputs": [],
   "source": [
    "from numpy import loadtxt\n",
    "import numpy as np\n",
    "import glob\n",
    "import os\n",
    "import ast\n",
    "from matplotlib import pyplot as plt\n",
    "from scipy.optimize import curve_fit\n",
    "from scipy.misc import derivative\n",
    "from sympy import symbols, solve"
   ]
  },
  {
   "cell_type": "code",
   "execution_count": 57,
   "id": "3996dcc4",
   "metadata": {},
   "outputs": [],
   "source": [
    "def calc_random_diff(genome_filename, mature_filename, canon_site):\n",
    "    #load random simulation data into dictionary\n",
    "    data_r = {}\n",
    "    new_file_path = \"Simulated Random Coverage/\"+genome_filename+\"_simulation/Canon Site \"+canon_site\n",
    "    for ID in glob.glob(os.path.join(new_file_path, '*.txt')):\n",
    "           with open(os.path.join(os.getcwd(), ID), 'r') as f:\n",
    "                data_r[int(os.path.basename(ID).split('/')[-1].strip(\".tx\"))] = (ast.literal_eval(f.read()))\n",
    "                \n",
    "    #sort dictionary\n",
    "    keys_r = list(data_r.keys())\n",
    "    keys_r.sort()\n",
    "    data_r = {i: data_r[i] for i in keys_r}\n",
    "    \n",
    "    #generate means points (to plot line through boxplots)\n",
    "    x = []\n",
    "    y = []\n",
    "    for i in data_r:\n",
    "        x.append(i) \n",
    "        y.append(sum(data_r[i])/len(data_r[i]))\n",
    "        \n",
    "    #find the best fit using the generalized logistic function \n",
    "    def glf(x, a, b, c, d, g):\n",
    "        return ( ( (a-d) / ( (1+( (x/c)** b )) **g) ) + d )\n",
    "    popt, pcov = curve_fit(glf, x, y, p0=[0,1,np.quantile(x,.25),np.max(y),.4], maxfev=3000)\n",
    "    \n",
    "    def d_glf(x):\n",
    "        return derivative(glf, x, dx = 1e-6, args = (popt))\n",
    "    #plt.plot(x, [d_glf(i) for i in x])\n",
    "    \n",
    "    sol = -1\n",
    "    for i in range(0,1600):\n",
    "        if d_glf(i)<=1:\n",
    "            sol = i\n",
    "            break\n",
    "            \n",
    "    return (sol, d_glf(sol))"
   ]
  },
  {
   "cell_type": "code",
   "execution_count": 58,
   "id": "5bd125bf",
   "metadata": {},
   "outputs": [
    {
     "name": "stdout",
     "output_type": "stream",
     "text": [
      "(750, 0.999647454591468)\n"
     ]
    },
    {
     "name": "stderr",
     "output_type": "stream",
     "text": [
      "/var/folders/wd/wcjpwvbx6ql2slnp2p7cvn2m0000gn/T/ipykernel_64383/3485587334.py:23: RuntimeWarning: divide by zero encountered in power\n",
      "  return ( ( (a-d) / ( (1+( (x/c)** b )) **g) ) + d )\n",
      "/var/folders/wd/wcjpwvbx6ql2slnp2p7cvn2m0000gn/T/ipykernel_64383/3485587334.py:23: RuntimeWarning: invalid value encountered in power\n",
      "  return ( ( (a-d) / ( (1+( (x/c)** b )) **g) ) + d )\n",
      "/var/folders/wd/wcjpwvbx6ql2slnp2p7cvn2m0000gn/T/ipykernel_64383/3485587334.py:23: RuntimeWarning: invalid value encountered in double_scalars\n",
      "  return ( ( (a-d) / ( (1+( (x/c)** b )) **g) ) + d )\n"
     ]
    }
   ],
   "source": [
    "print(calc_random_diff('Zebrafish genes (GRCz11)','Zebrafish (Danio rerio)', 'B'))"
   ]
  },
  {
   "cell_type": "code",
   "execution_count": null,
   "id": "00f81dc4",
   "metadata": {},
   "outputs": [],
   "source": []
  }
 ],
 "metadata": {
  "kernelspec": {
   "display_name": "Python 3 (ipykernel)",
   "language": "python",
   "name": "python3"
  },
  "language_info": {
   "codemirror_mode": {
    "name": "ipython",
    "version": 3
   },
   "file_extension": ".py",
   "mimetype": "text/x-python",
   "name": "python",
   "nbconvert_exporter": "python",
   "pygments_lexer": "ipython3",
   "version": "3.10.5"
  }
 },
 "nbformat": 4,
 "nbformat_minor": 5
}
