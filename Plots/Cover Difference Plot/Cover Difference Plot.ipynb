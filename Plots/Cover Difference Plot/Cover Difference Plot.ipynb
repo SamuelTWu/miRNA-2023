{
 "cells": [
  {
   "cell_type": "markdown",
   "id": "dbd7c3f3",
   "metadata": {},
   "source": [
    "## Cover Difference Plot\n",
    "This plot shows the difference in gene coverage between optimal vs real and random vs real. It does this by fitting a function to the simulated random/optimal data, and using that fuction to compare the values of real coverage bs simulated coverage. The calc_random_diff() and calc_optimal_diff()"
   ]
  },
  {
   "cell_type": "code",
   "execution_count": 3,
   "id": "017e25bd",
   "metadata": {},
   "outputs": [],
   "source": [
    "from numpy import loadtxt\n",
    "import numpy as np\n",
    "import glob\n",
    "import os\n",
    "import ast\n",
    "from matplotlib import pyplot as plt\n",
    "from scipy.optimize import curve_fit"
   ]
  },
  {
   "cell_type": "code",
   "execution_count": 8,
   "id": "d13cec78",
   "metadata": {},
   "outputs": [],
   "source": [
    "def calc_random_diff(genome_filename, mature_filename, canon_site, v_subset):\n",
    "    #load random simulation data into dictionary\n",
    "    data_r = {}\n",
    "    new_file_path = \"Simulated Random Coverage/\"+genome_filename+\"_simulation/Canon Site \"+canon_site\n",
    "    for ID in glob.glob(os.path.join(new_file_path, '*.txt')):\n",
    "           with open(os.path.join(os.getcwd(), ID), 'r') as f:\n",
    "                data_r[int(os.path.basename(ID).split('/')[-1].strip(\".tx\"))] = (ast.literal_eval(f.read()))\n",
    "                \n",
    "    #sort dictionary\n",
    "    keys_r = list(data_r.keys())\n",
    "    keys_r.sort()\n",
    "    data_r = {i: data_r[i] for i in keys_r}\n",
    "    \n",
    "    #generate means points (to plot line through boxplots)\n",
    "    x = []\n",
    "    y = []\n",
    "    for i in data_r:\n",
    "        x.append(i) \n",
    "        y.append(sum(data_r[i])/len(data_r[i]))\n",
    "        \n",
    "    #find the best fit using the generalized logistic function \n",
    "    #check https://en.wikipedia.org/wiki/Generalised_logistic_function for more info\n",
    "    #In this variant of the generalized logistic, here are what the variables represent:\n",
    "    #𝑎:the lower asymptote\n",
    "    #𝑏:the Hill coefficient, i.e. the steepness of the slope in the linear portion of the sigmoid\n",
    "    #𝑐:the 𝑥 value of the middle of the the linear portion of the curve\n",
    "    #𝑑:the upper asymptote\n",
    "    #𝑔:asymmetry factor - set to 0.5 initially\n",
    "    def glf(x, a, b, c, d, g):\n",
    "        return ( ( (a-d) / ( (1+( (x/c)** b )) **g) ) + d )\n",
    "    popt, pcov = curve_fit(glf, x, y, p0=[0,1,np.quantile(x,.25),np.max(y),.4], maxfev=3000)\n",
    "    \n",
    "    plt.plot(x,y)\n",
    "    plt.plot(x,glf(x,*popt))\n",
    "\n",
    "    #load real coverage number and return result\n",
    "    new_file_path = \"Real Coverage/\"+mature_filename+\"/Canon Site \"+canon_site\n",
    "    if v_subset == 'Norm' or v_subset == 'Pre' or v_subset == 'Post':\n",
    "        with open(new_file_path+\"/\"+v_subset+\"_v.txt\", 'r') as f:\n",
    "            n = ast.literal_eval(f.read())\n",
    "    else:\n",
    "        print(\"ERROR: Invalid v_subset\")\n",
    "        return\n",
    "\n",
    "    \n",
    "    return glf(n[0],*popt)"
   ]
  },
  {
   "cell_type": "code",
   "execution_count": 9,
   "id": "0a424f83",
   "metadata": {},
   "outputs": [
    {
     "name": "stderr",
     "output_type": "stream",
     "text": [
      "/var/folders/wd/wcjpwvbx6ql2slnp2p7cvn2m0000gn/T/ipykernel_37326/1413733154.py:30: RuntimeWarning: invalid value encountered in power\n",
      "  return ( ( (a-d) / ( (1+( (x/c)** b )) **g) ) + d )\n"
     ]
    },
    {
     "data": {
      "text/plain": [
       "75058.4983325467"
      ]
     },
     "execution_count": 9,
     "metadata": {},
     "output_type": "execute_result"
    },
    {
     "data": {
      "image/png": "[encoded data removed]",
      "text/plain": [
       "<Figure size 432x288 with 1 Axes>"
      ]
     },
     "metadata": {
      "needs_background": "light"
     },
     "output_type": "display_data"
    }
   ],
   "source": [
    "canon_site = 'B'\n",
    "v_subset = 'Norm'\n",
    "calc_random_diff('Human genes (GRCh38.p13)','Human (Homo sapiens)', canon_site, v_subset)"
   ]
  },
  {
   "cell_type": "code",
   "execution_count": 10,
   "id": "f1faeb4c",
   "metadata": {},
   "outputs": [],
   "source": [
    "def calc_optimal_diff(genome_filename, mature_filename, canon_site, v_subset):\n",
    "    #load random simulation data into dictionary\n",
    "    data_r = {}\n",
    "    new_file_path = \"Simulated Optimal Coverage/\"+genome_filename+\"_simulation/Canon Site \"+canon_site\n",
    "    for ID in glob.glob(os.path.join(new_file_path, '*.txt')):\n",
    "           with open(os.path.join(os.getcwd(), ID), 'r') as f:\n",
    "                data_r[int(os.path.basename(ID).split('/')[-1].strip(\".tx\"))] = (ast.literal_eval(f.read()))\n",
    "                \n",
    "    #sort dictionary\n",
    "    keys_r = list(data_r.keys())\n",
    "    keys_r.sort()\n",
    "    data_r = {i: data_r[i] for i in keys_r}\n",
    "    \n",
    "    #generate means points (to plot line through boxplots)\n",
    "    x = []\n",
    "    y = []\n",
    "    for i in data_r:\n",
    "        x.append(i) \n",
    "        y.append(sum(data_r[i])/len(data_r[i]))\n",
    "        \n",
    "    #find the best fit using logistic function (could be improved)\n",
    "    def glf(x, a, b):\n",
    "        return a*np.log(x)+b\n",
    "    popt, pcov = curve_fit(glf, x, y)\n",
    "    \n",
    "    plt.plot(x,y)\n",
    "    plt.plot(x,glf(x,*popt))\n",
    "\n",
    "    #load real coverage number and return result\n",
    "    new_file_path = \"Real Coverage/\"+mature_filename+\"/Canon Site \"+canon_site\n",
    "    if v_subset == 'Norm' or v_subset == 'Pre' or v_subset == 'Post':\n",
    "        with open(new_file_path+\"/\"+v_subset+\"_v.txt\", 'r') as f:\n",
    "            n = ast.literal_eval(f.read())\n",
    "    else:\n",
    "        print(\"ERROR: Invalid v_subset\")\n",
    "        return\n",
    "    \n",
    "    return glf(n[0],*popt)"
   ]
  },
  {
   "cell_type": "code",
   "execution_count": 11,
   "id": "e9efc644",
   "metadata": {},
   "outputs": [
    {
     "data": {
      "text/plain": [
       "77479.27663752089"
      ]
     },
     "execution_count": 11,
     "metadata": {},
     "output_type": "execute_result"
    },
    {
     "data": {
      "image/png": "[encoded data removed]",
      "text/plain": [
       "<Figure size 432x288 with 1 Axes>"
      ]
     },
     "metadata": {
      "needs_background": "light"
     },
     "output_type": "display_data"
    }
   ],
   "source": [
    "canon_site = 'B'\n",
    "v_subset = 'Norm'\n",
    "calc_optimal_diff('Human genes (GRCh38.p13)','Human (Homo sapiens)', canon_site, v_subset)"
   ]
  },
  {
   "cell_type": "code",
   "execution_count": 20,
   "id": "54c5287d",
   "metadata": {},
   "outputs": [],
   "source": [
    "species_list = [\n",
    "    ('Zebrafish genes (GRCz11)','Zebrafish (Danio rerio)'),\n",
    "    ('Human genes (GRCh38.p13)','Human (Homo sapiens)')\n",
    "]"
   ]
  },
  {
   "cell_type": "code",
   "execution_count": 75,
   "id": "ddce697b",
   "metadata": {},
   "outputs": [],
   "source": [
    "def plot_difference(canon_site, v_subset):\n",
    "    x = []\n",
    "    y_rand = []\n",
    "    y_opt = []\n",
    "    \n",
    "    #retrieving data\n",
    "    for species in species_list:\n",
    "        y_real = 0\n",
    "        new_file_path = \"Real Coverage/\"+species[1]+\"/Canon Site \"+canon_site\n",
    "        with open(new_file_path+\"/Norm_v.txt\", 'r') as f:\n",
    "            data = ast.literal_eval(f.read())\n",
    "            x.append(data[0])\n",
    "            y_real = data[1]\n",
    "        y_rand.append(y_real - calc_random_diff(species[0],species[1], canon_site, v_subset))\n",
    "        y_opt.append(y_real - calc_optimal_diff(species[0],species[1], canon_site, v_subset))\n",
    "    \n",
    "    plt.figure(figsize=(10,10))\n",
    "    plt.scatter(x, y_rand, label='Random Seed')\n",
    "    plt.scatter(x, y_opt, label='Optimal Seed')\n",
    "    plt.legend()\n",
    "    plt.title(\"Cover Difference Plot (Canon Site\"+canon_site+\") \"+v_subset)\n",
    "    plt.savefig(\"Cover Difference Plot (Canon Site\"+canon_site+\") \"+v_subset)\n",
    "    plt.show()"
   ]
  },
  {
   "cell_type": "code",
   "execution_count": 77,
   "id": "e6521f7a",
   "metadata": {},
   "outputs": [
    {
     "name": "stderr",
     "output_type": "stream",
     "text": [
      "/var/folders/wd/wcjpwvbx6ql2slnp2p7cvn2m0000gn/T/ipykernel_8117/715423118.py:30: RuntimeWarning: invalid value encountered in power\n",
      "  return ( ( (a-d) / ( (1+( (x/c)** b )) **g) ) + d )\n"
     ]
    },
    {
     "data": {
      "image/png": "[encoded data removed]",
      "text/plain": [
       "<Figure size 720x720 with 1 Axes>"
      ]
     },
     "metadata": {
      "needs_background": "light"
     },
     "output_type": "display_data"
    }
   ],
   "source": [
    "canon_site = 'B'\n",
    "v_subset = 'post'\n",
    "plot_difference(canon_site, v_subset)"
   ]
  },
  {
   "cell_type": "code",
   "execution_count": null,
   "id": "9924d7c8",
   "metadata": {},
   "outputs": [],
   "source": []
  }
 ],
 "metadata": {
  "kernelspec": {
   "display_name": "Python 3 (ipykernel)",
   "language": "python",
   "name": "python3"
  },
  "language_info": {
   "codemirror_mode": {
    "name": "ipython",
    "version": 3
   },
   "file_extension": ".py",
   "mimetype": "text/x-python",
   "name": "python",
   "nbconvert_exporter": "python",
   "pygments_lexer": "ipython3",
   "version": "3.10.5"
  }
 },
 "nbformat": 4,
 "nbformat_minor": 5
}
